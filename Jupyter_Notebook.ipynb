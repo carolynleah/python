{
 "cells": [
  {
   "cell_type": "markdown",
   "metadata": {},
   "source": [
    "<center>\n",
    "    <img src=\"https://cf-courses-data.s3.us.cloud-object-storage.appdomain.cloud/IBMDeveloperSkillsNetwork-DS0105EN-SkillsNetwork/labs/Module2/images/SN_web_lightmode.png\" width=\"300\" alt=\"cognitiveclass.ai logo\"  />\n",
    "</center>\n"
   ]
  },
  {
   "cell_type": "markdown",
   "metadata": {},
   "source": [
    "#### Add your code below following the instructions given in the course\n"
   ]
  },
  {
   "cell_type": "markdown",
   "metadata": {
    "tags": []
   },
   "source": [
    "# My Jupyter Notebook on IBM Watson Studio"
   ]
  },
  {
   "cell_type": "markdown",
   "metadata": {},
   "source": [
    "__Carolyn Cuykendall__ \n",
    "data scientist, designer."
   ]
  },
  {
   "cell_type": "markdown",
   "metadata": {},
   "source": [
    "_I've worked as a graphic designer for just about a decade, and one area of design I'm especially interested in is data visualization. I'm interested to learn ways to analyze, understand, and interpret data in programmatic ways._"
   ]
  },
  {
   "cell_type": "markdown",
   "metadata": {},
   "source": [
    "<h3>The follow is code to determine if a year is a leap year.</h3"
   ]
  },
  {
   "cell_type": "code",
   "execution_count": 11,
   "metadata": {},
   "outputs": [
    {
     "name": "stdout",
     "output_type": "stream",
     "text": [
      "2023 is not a leap year.\n",
      "2024 is a leap year.\n"
     ]
    }
   ],
   "source": [
    "def check_leap_year(year): \n",
    "  if year % 4 == 0:\n",
    "    return str(year) + \" is a leap year.\"\n",
    "  else:\n",
    "    return str(year) + \" is not a leap year.\"\n",
    " \n",
    "year_to_check = 2023\n",
    "returned_value = check_leap_year(year_to_check)\n",
    "print(returned_value)\n",
    "\n",
    "year_to_check = 2024\n",
    "returned_value = check_leap_year(year_to_check)\n",
    "print(returned_value)"
   ]
  },
  {
   "cell_type": "markdown",
   "metadata": {},
   "source": [
    "Markdown: horizontal rule, bulleted and numbered lists, table\n",
    "horizontal rule\n",
    "---\n",
    "bulleted list\n",
    "-one\n",
    "-two\n",
    "-three\n",
    "\n",
    "---\n",
    "\n",
    "numbered list\n",
    "1. one\n",
    "2. two\n",
    "3. three\n",
    "\n",
    "---\n",
    "\n",
    "table\n",
    "| 1 | 2 | 3 |\n",
    "| 4 | 5 | 6 |\n",
    "\n",
    "---"
   ]
  },
  {
   "cell_type": "code",
   "execution_count": null,
   "metadata": {},
   "outputs": [],
   "source": []
  }
 ],
 "metadata": {
  "kernelspec": {
   "display_name": "Python",
   "language": "python",
   "name": "conda-env-python-py"
  },
  "language_info": {
   "codemirror_mode": {
    "name": "ipython",
    "version": 3
   },
   "file_extension": ".py",
   "mimetype": "text/x-python",
   "name": "python",
   "nbconvert_exporter": "python",
   "pygments_lexer": "ipython3",
   "version": "3.7.12"
  }
 },
 "nbformat": 4,
 "nbformat_minor": 4
}
